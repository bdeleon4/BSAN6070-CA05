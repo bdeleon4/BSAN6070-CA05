{
  "nbformat": 4,
  "nbformat_minor": 0,
  "metadata": {
    "colab": {
      "name": "Ca05-Logistic Regression",
      "provenance": []
    },
    "kernelspec": {
      "name": "python3",
      "display_name": "Python 3"
    }
  },
  "cells": [
    {
      "cell_type": "code",
      "metadata": {
        "id": "HV0mstl80Jbf",
        "colab_type": "code",
        "colab": {}
      },
      "source": [
        "#import packages \n",
        "import pandas as pd\n",
        "import numpy as np\n",
        "from sklearn import linear_model\n",
        "import sklearn\n",
        "import sklearn.metrics as metrics\n",
        "import matplotlib.pyplot as plt\n",
        "import sklearn.metrics as metrics\n",
        "from sklearn.metrics import accuracy_score\n",
        "import matplotlib.pyplot as plt"
      ],
      "execution_count": 0,
      "outputs": []
    },
    {
      "cell_type": "code",
      "metadata": {
        "id": "CHTt4hi42fu9",
        "colab_type": "code",
        "colab": {
          "base_uri": "https://localhost:8080/",
          "height": 753
        },
        "outputId": "f6ade473-af0e-44d9-aa46-85290697fb2b"
      },
      "source": [
        "#read in file\n",
        "data = pd.read_csv('https://github.com/ArinB/CA05-B-Logistic-Regression/raw/master/cvd_data.csv')\n",
        "\n",
        "data.info()\n",
        "data.describe()\n",
        "\n",
        "#look at first ten records\n",
        "data.head(10)\n"
      ],
      "execution_count": 11,
      "outputs": [
        {
          "output_type": "stream",
          "text": [
            "<class 'pandas.core.frame.DataFrame'>\n",
            "RangeIndex: 3242 entries, 0 to 3241\n",
            "Data columns (total 17 columns):\n",
            "cvd_4types      3242 non-null int64\n",
            "age_s1          3242 non-null int64\n",
            "race            3242 non-null int64\n",
            "educat          3242 non-null int64\n",
            "mstat           3242 non-null int64\n",
            "hip             3242 non-null float64\n",
            "neck20          3242 non-null float64\n",
            "waist           3242 non-null float64\n",
            "av_weight_kg    3242 non-null float64\n",
            "cgpkyr          3242 non-null float64\n",
            "tea15           3242 non-null int64\n",
            "srhype          3242 non-null int64\n",
            "parrptdiab      3242 non-null int64\n",
            "bend25          3242 non-null int64\n",
            "happy25         3242 non-null int64\n",
            "tired25         3242 non-null int64\n",
            "hlthlm25        3242 non-null int64\n",
            "dtypes: float64(5), int64(12)\n",
            "memory usage: 430.7 KB\n"
          ],
          "name": "stdout"
        },
        {
          "output_type": "execute_result",
          "data": {
            "text/html": [
              "<div>\n",
              "<style scoped>\n",
              "    .dataframe tbody tr th:only-of-type {\n",
              "        vertical-align: middle;\n",
              "    }\n",
              "\n",
              "    .dataframe tbody tr th {\n",
              "        vertical-align: top;\n",
              "    }\n",
              "\n",
              "    .dataframe thead th {\n",
              "        text-align: right;\n",
              "    }\n",
              "</style>\n",
              "<table border=\"1\" class=\"dataframe\">\n",
              "  <thead>\n",
              "    <tr style=\"text-align: right;\">\n",
              "      <th></th>\n",
              "      <th>cvd_4types</th>\n",
              "      <th>age_s1</th>\n",
              "      <th>race</th>\n",
              "      <th>educat</th>\n",
              "      <th>mstat</th>\n",
              "      <th>hip</th>\n",
              "      <th>neck20</th>\n",
              "      <th>waist</th>\n",
              "      <th>av_weight_kg</th>\n",
              "      <th>cgpkyr</th>\n",
              "      <th>tea15</th>\n",
              "      <th>srhype</th>\n",
              "      <th>parrptdiab</th>\n",
              "      <th>bend25</th>\n",
              "      <th>happy25</th>\n",
              "      <th>tired25</th>\n",
              "      <th>hlthlm25</th>\n",
              "    </tr>\n",
              "  </thead>\n",
              "  <tbody>\n",
              "    <tr>\n",
              "      <th>0</th>\n",
              "      <td>0</td>\n",
              "      <td>54</td>\n",
              "      <td>1</td>\n",
              "      <td>2</td>\n",
              "      <td>1</td>\n",
              "      <td>110.0</td>\n",
              "      <td>40.0</td>\n",
              "      <td>108.0</td>\n",
              "      <td>87.5</td>\n",
              "      <td>34.00</td>\n",
              "      <td>0</td>\n",
              "      <td>1</td>\n",
              "      <td>0</td>\n",
              "      <td>1</td>\n",
              "      <td>2</td>\n",
              "      <td>3</td>\n",
              "      <td>4</td>\n",
              "    </tr>\n",
              "    <tr>\n",
              "      <th>1</th>\n",
              "      <td>0</td>\n",
              "      <td>56</td>\n",
              "      <td>3</td>\n",
              "      <td>2</td>\n",
              "      <td>1</td>\n",
              "      <td>113.0</td>\n",
              "      <td>34.0</td>\n",
              "      <td>107.0</td>\n",
              "      <td>83.5</td>\n",
              "      <td>0.00</td>\n",
              "      <td>0</td>\n",
              "      <td>0</td>\n",
              "      <td>0</td>\n",
              "      <td>2</td>\n",
              "      <td>2</td>\n",
              "      <td>1</td>\n",
              "      <td>3</td>\n",
              "    </tr>\n",
              "    <tr>\n",
              "      <th>2</th>\n",
              "      <td>0</td>\n",
              "      <td>54</td>\n",
              "      <td>1</td>\n",
              "      <td>3</td>\n",
              "      <td>1</td>\n",
              "      <td>110.0</td>\n",
              "      <td>44.5</td>\n",
              "      <td>105.0</td>\n",
              "      <td>86.2</td>\n",
              "      <td>49.50</td>\n",
              "      <td>0</td>\n",
              "      <td>0</td>\n",
              "      <td>0</td>\n",
              "      <td>3</td>\n",
              "      <td>2</td>\n",
              "      <td>6</td>\n",
              "      <td>4</td>\n",
              "    </tr>\n",
              "    <tr>\n",
              "      <th>3</th>\n",
              "      <td>0</td>\n",
              "      <td>54</td>\n",
              "      <td>1</td>\n",
              "      <td>3</td>\n",
              "      <td>1</td>\n",
              "      <td>129.0</td>\n",
              "      <td>42.5</td>\n",
              "      <td>110.0</td>\n",
              "      <td>89.1</td>\n",
              "      <td>0.00</td>\n",
              "      <td>0</td>\n",
              "      <td>0</td>\n",
              "      <td>0</td>\n",
              "      <td>3</td>\n",
              "      <td>2</td>\n",
              "      <td>1</td>\n",
              "      <td>3</td>\n",
              "    </tr>\n",
              "    <tr>\n",
              "      <th>4</th>\n",
              "      <td>0</td>\n",
              "      <td>51</td>\n",
              "      <td>3</td>\n",
              "      <td>2</td>\n",
              "      <td>1</td>\n",
              "      <td>122.0</td>\n",
              "      <td>37.0</td>\n",
              "      <td>113.0</td>\n",
              "      <td>81.3</td>\n",
              "      <td>0.00</td>\n",
              "      <td>0</td>\n",
              "      <td>0</td>\n",
              "      <td>0</td>\n",
              "      <td>2</td>\n",
              "      <td>1</td>\n",
              "      <td>1</td>\n",
              "      <td>2</td>\n",
              "    </tr>\n",
              "    <tr>\n",
              "      <th>5</th>\n",
              "      <td>0</td>\n",
              "      <td>67</td>\n",
              "      <td>1</td>\n",
              "      <td>3</td>\n",
              "      <td>3</td>\n",
              "      <td>140.0</td>\n",
              "      <td>35.5</td>\n",
              "      <td>101.0</td>\n",
              "      <td>87.2</td>\n",
              "      <td>0.00</td>\n",
              "      <td>0</td>\n",
              "      <td>1</td>\n",
              "      <td>0</td>\n",
              "      <td>1</td>\n",
              "      <td>1</td>\n",
              "      <td>4</td>\n",
              "      <td>4</td>\n",
              "    </tr>\n",
              "    <tr>\n",
              "      <th>6</th>\n",
              "      <td>0</td>\n",
              "      <td>68</td>\n",
              "      <td>1</td>\n",
              "      <td>2</td>\n",
              "      <td>1</td>\n",
              "      <td>101.0</td>\n",
              "      <td>39.0</td>\n",
              "      <td>93.0</td>\n",
              "      <td>80.5</td>\n",
              "      <td>9.20</td>\n",
              "      <td>0</td>\n",
              "      <td>0</td>\n",
              "      <td>0</td>\n",
              "      <td>2</td>\n",
              "      <td>3</td>\n",
              "      <td>4</td>\n",
              "      <td>4</td>\n",
              "    </tr>\n",
              "    <tr>\n",
              "      <th>7</th>\n",
              "      <td>0</td>\n",
              "      <td>67</td>\n",
              "      <td>1</td>\n",
              "      <td>2</td>\n",
              "      <td>1</td>\n",
              "      <td>107.0</td>\n",
              "      <td>32.0</td>\n",
              "      <td>80.0</td>\n",
              "      <td>73.2</td>\n",
              "      <td>0.00</td>\n",
              "      <td>0</td>\n",
              "      <td>1</td>\n",
              "      <td>0</td>\n",
              "      <td>2</td>\n",
              "      <td>2</td>\n",
              "      <td>4</td>\n",
              "      <td>4</td>\n",
              "    </tr>\n",
              "    <tr>\n",
              "      <th>8</th>\n",
              "      <td>0</td>\n",
              "      <td>44</td>\n",
              "      <td>1</td>\n",
              "      <td>2</td>\n",
              "      <td>1</td>\n",
              "      <td>100.0</td>\n",
              "      <td>36.5</td>\n",
              "      <td>89.0</td>\n",
              "      <td>79.1</td>\n",
              "      <td>6.75</td>\n",
              "      <td>0</td>\n",
              "      <td>0</td>\n",
              "      <td>0</td>\n",
              "      <td>3</td>\n",
              "      <td>3</td>\n",
              "      <td>4</td>\n",
              "      <td>4</td>\n",
              "    </tr>\n",
              "    <tr>\n",
              "      <th>9</th>\n",
              "      <td>0</td>\n",
              "      <td>42</td>\n",
              "      <td>1</td>\n",
              "      <td>2</td>\n",
              "      <td>1</td>\n",
              "      <td>105.0</td>\n",
              "      <td>35.5</td>\n",
              "      <td>90.0</td>\n",
              "      <td>78.1</td>\n",
              "      <td>21.00</td>\n",
              "      <td>0</td>\n",
              "      <td>0</td>\n",
              "      <td>0</td>\n",
              "      <td>3</td>\n",
              "      <td>2</td>\n",
              "      <td>3</td>\n",
              "      <td>3</td>\n",
              "    </tr>\n",
              "  </tbody>\n",
              "</table>\n",
              "</div>"
            ],
            "text/plain": [
              "   cvd_4types  age_s1  race  educat  ...  bend25  happy25  tired25  hlthlm25\n",
              "0           0      54     1       2  ...       1        2        3         4\n",
              "1           0      56     3       2  ...       2        2        1         3\n",
              "2           0      54     1       3  ...       3        2        6         4\n",
              "3           0      54     1       3  ...       3        2        1         3\n",
              "4           0      51     3       2  ...       2        1        1         2\n",
              "5           0      67     1       3  ...       1        1        4         4\n",
              "6           0      68     1       2  ...       2        3        4         4\n",
              "7           0      67     1       2  ...       2        2        4         4\n",
              "8           0      44     1       2  ...       3        3        4         4\n",
              "9           0      42     1       2  ...       3        2        3         3\n",
              "\n",
              "[10 rows x 17 columns]"
            ]
          },
          "metadata": {
            "tags": []
          },
          "execution_count": 11
        }
      ]
    },
    {
      "cell_type": "markdown",
      "metadata": {
        "id": "AUk9jpYt5YeW",
        "colab_type": "text"
      },
      "source": [
        "##Part 1"
      ]
    },
    {
      "cell_type": "code",
      "metadata": {
        "id": "8BWW7gGb3YCR",
        "colab_type": "code",
        "colab": {}
      },
      "source": [
        "import random\n",
        "from sklearn.model_selection import train_test_split\n",
        "from sklearn import preprocessing\n",
        "\n",
        "mm_scaler = preprocessing.MinMaxScaler()\n",
        "new_array = mm_scaler.fit_transform(data.drop('cvd_4types',axis=1))\n",
        "\n",
        "#independent and dependent variables\n",
        "y = data['cvd_4types']\n",
        "\n",
        "#splitting training and testing set\n",
        "X_train, X_test, y_train, y_test = train_test_split(new_array, y, test_size=0.33,random_state=99)"
      ],
      "execution_count": 0,
      "outputs": []
    },
    {
      "cell_type": "markdown",
      "metadata": {
        "id": "zG2E2LvGncKH",
        "colab_type": "text"
      },
      "source": [
        "# Without Hyperparameters"
      ]
    },
    {
      "cell_type": "code",
      "metadata": {
        "id": "eQm6Dckvmjf3",
        "colab_type": "code",
        "colab": {
          "base_uri": "https://localhost:8080/",
          "height": 51
        },
        "outputId": "dda8b9b0-c375-46d7-a932-4765ecfb378a"
      },
      "source": [
        "from sklearn.linear_model import LogisticRegression\n",
        "\n",
        "lr_model = LogisticRegression()\n",
        "lr_model.fit(X_train,y_train)\n",
        "ypred = lr_model.predict(X_test)\n",
        "accuracy = accuracy_score(y_test, ypred)\n",
        "\n",
        "ypred_prob = lr_model.predict_proba(X_test)[:,1]\n",
        "fpr, tpr, threshold = metrics.roc_curve(y_test, ypred_prob)\n",
        "aucscore = metrics.auc(fpr, tpr)\n",
        "\n",
        "print(\"Accuracy:\", accuracy)\n",
        "print(\"AUC:\", aucscore)"
      ],
      "execution_count": 13,
      "outputs": [
        {
          "output_type": "stream",
          "text": [
            "Accuracy: 0.6953271028037383\n",
            "AUC: 0.7065739861267019\n"
          ],
          "name": "stdout"
        }
      ]
    },
    {
      "cell_type": "code",
      "metadata": {
        "id": "2-OGn52DoleL",
        "colab_type": "code",
        "colab": {}
      },
      "source": [
        "C = np.logspace(0, 4, 10)\n",
        "solver = ['sag','lbfgs','newton-cg']\n",
        "\n",
        "# Create hyperparameter options\n",
        "random_state = [99]\n",
        "hyperparameters = dict(C=C, solver=solver, random_state=random_state)"
      ],
      "execution_count": 0,
      "outputs": []
    },
    {
      "cell_type": "code",
      "metadata": {
        "id": "lS9um_WXotbN",
        "colab_type": "code",
        "colab": {
          "base_uri": "https://localhost:8080/",
          "height": 51
        },
        "outputId": "ef086d81-5db9-49e3-d262-a42353ba8219"
      },
      "source": [
        "from sklearn.model_selection import GridSearchCV\n",
        "\n",
        "clfmodel = GridSearchCV(lr_model, hyperparameters, cv=5)\n",
        "best = clfmodel.fit(X_train, y_train)\n",
        "\n",
        "#find best hyperparameters\n",
        "print('Best Solver:', best.best_estimator_.get_params()['solver'])\n",
        "print('Best C:', best.best_estimator_.get_params()['C'])"
      ],
      "execution_count": 15,
      "outputs": [
        {
          "output_type": "stream",
          "text": [
            "Best Solver: sag\n",
            "Best C: 2.7825594022071245\n"
          ],
          "name": "stdout"
        }
      ]
    },
    {
      "cell_type": "markdown",
      "metadata": {
        "id": "cbp_Pt-7pzqF",
        "colab_type": "text"
      },
      "source": [
        "Best Model trained"
      ]
    },
    {
      "cell_type": "code",
      "metadata": {
        "id": "lnNYmKFtpwEg",
        "colab_type": "code",
        "colab": {
          "base_uri": "https://localhost:8080/",
          "height": 34
        },
        "outputId": "0e0a689b-bfcb-4d82-f600-b83c8571ac90"
      },
      "source": [
        "lr_best = LogisticRegression(C=2.78, solver='sag', random_state=99)\n",
        "lr_best.fit(X_train,y_train)\n",
        "y_pred = lr_best.predict(X_test)\n",
        "accuracy = accuracy_score(y_test, y_pred)\n",
        "\n",
        "accuracy"
      ],
      "execution_count": 16,
      "outputs": [
        {
          "output_type": "execute_result",
          "data": {
            "text/plain": [
              "0.6953271028037383"
            ]
          },
          "metadata": {
            "tags": []
          },
          "execution_count": 16
        }
      ]
    },
    {
      "cell_type": "markdown",
      "metadata": {
        "id": "0MwkEwdDs904",
        "colab_type": "text"
      },
      "source": [
        "#Part 2"
      ]
    },
    {
      "cell_type": "code",
      "metadata": {
        "id": "PmVozlZuLhuZ",
        "colab_type": "code",
        "colab": {
          "base_uri": "https://localhost:8080/",
          "height": 360
        },
        "outputId": "6b9ecb9c-8375-486d-a5fd-f38805fc55d1"
      },
      "source": [
        "lr_best = linear_model.LogisticRegression(random_state=99, penalty='l2', C=2.78, solver='sag')\n",
        "lr_best.fit(X_train/np.std(X_train,0),y_train)\n",
        "\n",
        "values=pd.Series(lr_best.coef_[0])\n",
        "values.sort_values(ascending=False)"
      ],
      "execution_count": 17,
      "outputs": [
        {
          "output_type": "stream",
          "text": [
            "/usr/local/lib/python3.6/dist-packages/sklearn/linear_model/_sag.py:330: ConvergenceWarning: The max_iter was reached which means the coef_ did not converge\n",
            "  \"the coef_ did not converge\", ConvergenceWarning)\n"
          ],
          "name": "stderr"
        },
        {
          "output_type": "execute_result",
          "data": {
            "text/plain": [
              "6     1.082545\n",
              "2     0.196977\n",
              "11    0.150095\n",
              "12    0.091778\n",
              "10    0.050337\n",
              "0     0.028388\n",
              "14    0.024949\n",
              "8     0.013772\n",
              "9    -0.032717\n",
              "13   -0.064462\n",
              "3    -0.102141\n",
              "5    -0.142069\n",
              "7    -0.218558\n",
              "15   -0.333967\n",
              "1    -0.384676\n",
              "4    -0.555986\n",
              "dtype: float64"
            ]
          },
          "metadata": {
            "tags": []
          },
          "execution_count": 17
        }
      ]
    },
    {
      "cell_type": "markdown",
      "metadata": {
        "id": "sHep_J4V49Za",
        "colab_type": "text"
      },
      "source": [
        "# Part 3"
      ]
    },
    {
      "cell_type": "code",
      "metadata": {
        "id": "r7tc2XjMMUmv",
        "colab_type": "code",
        "colab": {}
      },
      "source": [
        "y_score = lr_best.predict(X_test)\n",
        "\n",
        "#Confusion Matrix\n",
        "matrix = sklearn.metrics.confusion_matrix(y_test, y_pred)\n",
        "tn, fp, fn, tp = matrix.ravel()"
      ],
      "execution_count": 0,
      "outputs": []
    },
    {
      "cell_type": "code",
      "metadata": {
        "id": "tmAh7YJDMygR",
        "colab_type": "code",
        "colab": {}
      },
      "source": [
        "#Precision and Recall\n",
        "precision = tp/(tp+fp)\n",
        "recall = tp/(tp+fn)"
      ],
      "execution_count": 0,
      "outputs": []
    },
    {
      "cell_type": "code",
      "metadata": {
        "id": "WyNskZ1ZNN56",
        "colab_type": "code",
        "colab": {}
      },
      "source": [
        "#f1 score\n",
        "f1 = sklearn.metrics.f1_score(y_test, y_pred,average='binary')\n",
        "calc_f1 = 2*precision*recall/(precision+recall)"
      ],
      "execution_count": 0,
      "outputs": []
    },
    {
      "cell_type": "code",
      "metadata": {
        "id": "bqUVr7R8NkNr",
        "colab_type": "code",
        "colab": {}
      },
      "source": [
        "#Accuracy and AUC\n",
        "acc1 = accuracy_score(y_test, ypred)\n",
        "ypred_prob = lr_best.predict_proba(X_test)[:,1]\n",
        "fpr, tpr, threshold = metrics.roc_curve(y_test, ypred_prob)\n",
        "auc_score = metrics.auc(fpr, tpr)"
      ],
      "execution_count": 0,
      "outputs": []
    },
    {
      "cell_type": "code",
      "metadata": {
        "id": "VRc7_yzaPAKn",
        "colab_type": "code",
        "outputId": "92420641-93fc-4af8-f894-632b4f18264a",
        "colab": {
          "base_uri": "https://localhost:8080/",
          "height": 283
        }
      },
      "source": [
        "#ROC\n",
        "plt.plot(fpr, tpr, 'b', auc_score)\n",
        "plt.plot([0, 1], [0, 1],'r--')\n",
        "plt.xlim([0, 1])\n",
        "plt.ylim([0, 1])\n",
        "plt.ylabel('True Positive Rate')\n",
        "plt.xlabel('False Positive Rate')\n",
        "\n",
        "plt.show()"
      ],
      "execution_count": 23,
      "outputs": [
        {
          "output_type": "display_data",
          "data": {
            "image/png": "[encoded data removed]",
            "text/plain": [
              "<Figure size 432x288 with 1 Axes>"
            ]
          },
          "metadata": {
            "tags": []
          }
        }
      ]
    },
    {
      "cell_type": "code",
      "metadata": {
        "id": "ZOFvJuW9M9FT",
        "colab_type": "code",
        "outputId": "794b9dc3-8360-49dc-840d-e80a3e7b7b13",
        "colab": {
          "base_uri": "https://localhost:8080/",
          "height": 153
        }
      },
      "source": [
        "print(matrix)\n",
        "print('Precision:',precision)\n",
        "print('Recall:', recall)\n",
        "print('f1 score:',f1)\n",
        "print('calculated f1 score:',calc_f1)\n",
        "print('Accuracy:', acc1)\n",
        "print('AUC:', auc_score)"
      ],
      "execution_count": 24,
      "outputs": [
        {
          "output_type": "stream",
          "text": [
            "[[212 232]\n",
            " [ 94 532]]\n",
            "Precision: 0.6963350785340314\n",
            "Recall: 0.8498402555910544\n",
            "f1 score: 0.7654676258992806\n",
            "calculated f1 score: 0.7654676258992806\n",
            "Accuracy: 0.6953271028037383\n",
            "AUC: 0.6844472267794951\n"
          ],
          "name": "stdout"
        }
      ]
    }
  ]
}